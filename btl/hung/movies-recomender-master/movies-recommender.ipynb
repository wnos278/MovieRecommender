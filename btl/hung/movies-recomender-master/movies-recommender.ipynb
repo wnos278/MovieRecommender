{
 "metadata": {
  "language_info": {
   "codemirror_mode": {
    "name": "ipython",
    "version": 3
   },
   "file_extension": ".py",
   "mimetype": "text/x-python",
   "name": "python",
   "nbconvert_exporter": "python",
   "pygments_lexer": "ipython3",
   "version": "3.7.9-final"
  },
  "orig_nbformat": 2,
  "kernelspec": {
   "name": "python3",
   "display_name": "Python 3.7.9 64-bit ('jsai': conda)",
   "metadata": {
    "interpreter": {
     "hash": "b0928d3b7c0e061eee0051d8cb5301ed362bf54f6b7d33ae5be9bf5b84527451"
    }
   }
  }
 },
 "nbformat": 4,
 "nbformat_minor": 2,
 "cells": [
  {
   "cell_type": "code",
   "execution_count": 1,
   "metadata": {},
   "outputs": [
    {
     "output_type": "stream",
     "name": "stdout",
     "text": [
      "        userId  movieId  rating  timestamp\n884596    5342     2194       4  960685341\n261606    1599     1633       4  974735720\n941978    5683     1721       5  958608557\n864275    5208     3916       4  975560107\n520044    3208     1513       3  968555572\n...        ...      ...     ...        ...\n375166    2186     2399       2  974609566\n965580    5824     1282       4  957967655\n555818    3416     1515       5  967405224\n358581    2098     1756       3  974654599\n841379    5054      759       3  962487218\n\n[800167 rows x 4 columns]\n"
     ]
    }
   ],
   "source": [
    "# Train test split\n",
    "import pandas as pd\n",
    "from sklearn.model_selection import train_test_split\n",
    "\n",
    "col = ['userId', 'movieId', 'rating', 'timestamp']\n",
    "\n",
    "data = pd.read_csv('ml-1m/ratings.dat', sep='::', names=col)\n",
    "# data = pd.read_csv('ml-25m/ratings.csv')\n",
    "\n",
    "train, test = train_test_split(data, test_size=0.2)\n",
    "print(train)\n",
    "train.sort_values('userId').to_csv('./ml-1m/train.csv', index=False)\n",
    "test.sort_values('userId').to_csv('./ml-1m/test.csv', index=False)"
   ]
  },
  {
   "cell_type": "code",
   "execution_count": 2,
   "metadata": {},
   "outputs": [
    {
     "output_type": "stream",
     "name": "stdout",
     "text": [
      "800167 200042\n"
     ]
    }
   ],
   "source": [
    "print(len(train), len(test))"
   ]
  },
  {
   "source": [
    "## Ploting"
   ],
   "cell_type": "markdown",
   "metadata": {}
  },
  {
   "cell_type": "code",
   "execution_count": 5,
   "metadata": {},
   "outputs": [
    {
     "output_type": "stream",
     "name": "stdout",
     "text": [
      "k =  1\n",
      "throughput: 1010.078695205124\n",
      "RMSE: 0.9518830436356711\n",
      "MAE: 0.7541191867456717\n",
      "k =  2\n",
      "throughput: 1053.457235667426\n",
      "RMSE: 0.9518830436356711\n",
      "MAE: 0.7541191867456717\n",
      "k =  3\n",
      "throughput: 1077.4617239922345\n",
      "RMSE: 0.9518830436356711\n",
      "MAE: 0.7541191867456717\n",
      "k =  4\n",
      "throughput: 1079.2139083712611\n",
      "RMSE: 0.9518830436356711\n",
      "MAE: 0.7541191867456717\n",
      "k =  5\n",
      "throughput: 873.797332549229\n",
      "RMSE: 0.9518830436356711\n",
      "MAE: 0.7541191867456717\n",
      "k =  6\n",
      "throughput: 953.9348982937756\n",
      "RMSE: 0.9518830436356711\n",
      "MAE: 0.7541191867456717\n",
      "k =  7\n",
      "throughput: 1106.3608064737025\n",
      "RMSE: 0.9518830436356711\n",
      "MAE: 0.7541191867456717\n",
      "k =  8\n",
      "throughput: 1113.095901255056\n",
      "RMSE: 0.9518830436356711\n",
      "MAE: 0.7541191867456717\n",
      "k =  9\n",
      "throughput: 1109.1020441396822\n",
      "RMSE: 0.9518830436356711\n",
      "MAE: 0.7541191867456717\n",
      "k =  10\n",
      "throughput: 1003.8328403468995\n",
      "RMSE: 0.9518830436356711\n",
      "MAE: 0.7541191867456717\n",
      "throughput [1010.078695205124, 1053.457235667426, 1077.4617239922345, 1079.2139083712611, 873.797332549229, 953.9348982937756, 1106.3608064737025, 1113.095901255056, 1109.1020441396822, 1003.8328403468995]\n",
      "RMSE:  [0.9518830436356711, 0.9518830436356711, 0.9518830436356711, 0.9518830436356711, 0.9518830436356711, 0.9518830436356711, 0.9518830436356711, 0.9518830436356711, 0.9518830436356711, 0.9518830436356711]\n",
      "MAE:  [0.7541191867456717, 0.7541191867456717, 0.7541191867456717, 0.7541191867456717, 0.7541191867456717, 0.7541191867456717, 0.7541191867456717, 0.7541191867456717, 0.7541191867456717, 0.7541191867456717]\n"
     ]
    }
   ],
   "source": [
    "import time\n",
    "import numpy as np\n",
    "from CF import CF\n",
    "from clustering import bisecting_kmeans\n",
    "\n",
    "ratings_base = pd.read_csv('ml-1m/train.csv')\n",
    "ratings_test = pd.read_csv('ml-1m/test.csv')\n",
    "\n",
    "rate_train = ratings_base.values\n",
    "rate_test = ratings_test.values\n",
    "\n",
    "# indices start from 0\n",
    "rate_train[:, :2] -= 1\n",
    "rate_test[:, :2] -= 1\n",
    "\n",
    "rs = CF(rate_train, None, k=30, uuCF=1)\n",
    "\n",
    "rs.normalize_Y()\n",
    "rs.similarity()\n",
    "\n",
    "\n",
    "K_CLUSTERS = [1, 2, 3, 4, 5, 6, 7, 8, 9, 10]\n",
    "throughput_clustering = []\n",
    "RMSE_clustering = []\n",
    "MAE_clustering = []\n",
    "\n",
    "\n",
    "for k in K_CLUSTERS:\n",
    "    print('k = ', k)\n",
    "    clusters, user_mapping = bisecting_kmeans(rs.Ybar.transpose().tocsr(), k=1)\n",
    "    cf_clusters = {}\n",
    "    for i in clusters:\n",
    "        row, col = clusters[i].nonzero()\n",
    "        data = np.array(clusters[i][row, col]).flatten()\n",
    "        pd_data = pd.DataFrame()\n",
    "        pd_data['userId'] = row\n",
    "        pd_data['movieId'] = col\n",
    "        pd_data['rating'] = data\n",
    "        cf_clusters[i] = CF(pd_data.values, clusters[i].transpose())\n",
    "        cf_clusters[i].similarity()\n",
    "\n",
    "    n_tests = rate_test.shape[0]\n",
    "    SE = 0 # squared error\n",
    "    AE = 0 # absolute error\n",
    "\n",
    "    total_time = 0\n",
    "    for n in range(n_tests):\n",
    "        cf_cluster = cf_clusters[user_mapping[rate_test[n, 0]][0]]\n",
    "        user_cluster_id = user_mapping[rate_test[n, 0]][1]\n",
    "        start = time.time()\n",
    "        pred = cf_cluster.pred(user_cluster_id, rate_test[n, 1], normalized=1) + rs.mu[rate_test[n, 0]]\n",
    "        total_time += time.time() - start\n",
    "        # print(pred, rate_test[n, 2])\n",
    "        SE += (pred - rate_test[n, 2])**2\n",
    "        AE += np.abs(pred - rate_test[n, 2])\n",
    "\n",
    "    throughput = n_tests / total_time\n",
    "    RMSE = np.sqrt(SE/n_tests)\n",
    "    MAE = AE / n_tests\n",
    "    throughput_clustering.append(throughput)\n",
    "    RMSE_clustering.append((RMSE))\n",
    "    MAE_clustering.append((MAE))\n",
    "    print('throughput:', throughput)\n",
    "    print('RMSE:', RMSE)\n",
    "    print('MAE:', MAE)\n",
    "\n",
    "\n",
    "print('throughput', throughput_clustering)\n",
    "print('RMSE: ', RMSE_clustering)\n",
    "print('MAE: ', MAE_clustering)"
   ]
  },
  {
   "cell_type": "code",
   "execution_count": null,
   "metadata": {},
   "outputs": [],
   "source": []
  },
  {
   "cell_type": "code",
   "execution_count": null,
   "metadata": {},
   "outputs": [],
   "source": []
  },
  {
   "cell_type": "code",
   "execution_count": null,
   "metadata": {},
   "outputs": [],
   "source": []
  },
  {
   "cell_type": "code",
   "execution_count": null,
   "metadata": {},
   "outputs": [],
   "source": []
  },
  {
   "cell_type": "code",
   "execution_count": null,
   "metadata": {},
   "outputs": [],
   "source": []
  },
  {
   "cell_type": "code",
   "execution_count": null,
   "metadata": {},
   "outputs": [],
   "source": []
  },
  {
   "cell_type": "code",
   "execution_count": null,
   "metadata": {},
   "outputs": [],
   "source": []
  }
 ]
}