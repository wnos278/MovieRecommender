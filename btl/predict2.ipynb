{
 "metadata": {
  "language_info": {
   "codemirror_mode": {
    "name": "ipython",
    "version": 3
   },
   "file_extension": ".py",
   "mimetype": "text/x-python",
   "name": "python",
   "nbconvert_exporter": "python",
   "pygments_lexer": "ipython3",
   "version": "3.7.7-final"
  },
  "orig_nbformat": 2,
  "kernelspec": {
   "name": "python3",
   "display_name": "Python 3"
  }
 },
 "nbformat": 4,
 "nbformat_minor": 2,
 "cells": [
  {
   "cell_type": "code",
   "execution_count": 5,
   "metadata": {},
   "outputs": [],
   "source": [
    "import pandas as pd \n",
    "\n",
    "import tensorflow as tf \n"
   ]
  },
  {
   "cell_type": "code",
   "execution_count": 6,
   "metadata": {},
   "outputs": [],
   "source": [
    "ratings = 'E:\\\\20201\\\\ai\\\\btl\\\\dataset\\\\ml-25m\\\\ratings.csv'\n",
    "tags = 'E:\\\\20201\\\\ai\\\\btl\\\\dataset\\\\ml-25m\\\\tags.csv'\n",
    "movies = 'E:\\\\20201\\\\ai\\\\btl\\\\dataset\\\\ml-25m\\\\movies.csv'\n",
    "links = 'E:\\\\20201\\\\ai\\\\btl\\\\dataset\\\\ml-25m\\\\links.csv'\n",
    "genome_tags = 'E:\\\\20201\\\\ai\\\\btl\\\\dataset\\\\ml-25m\\\\genome-tags.csv'\n",
    "genome_scores = 'E:\\\\20201\\\\ai\\\\btl\\\\dataset\\\\ml-25m\\\\genome-scores.csv'"
   ]
  },
  {
   "cell_type": "code",
   "execution_count": 9,
   "metadata": {},
   "outputs": [],
   "source": [
    "ratings_data = pd.read_csv(ratings, encoding='utf-8', sep=',', names=[\"userId\", \"movieId\", \"rating\", \"timestamp\"], na_values='?')"
   ]
  },
  {
   "cell_type": "code",
   "execution_count": 11,
   "metadata": {},
   "outputs": [
    {
     "output_type": "stream",
     "name": "stdout",
     "text": [
      "25000096\n"
     ]
    }
   ],
   "source": [
    "print(len(ratings_data))"
   ]
  },
  {
   "cell_type": "code",
   "execution_count": 12,
   "metadata": {},
   "outputs": [],
   "source": [
    "tags_data = pd.read_csv(tags, encoding='utf-8', sep=',', names=[\"userId\", \"movieId\", \"tag\", \"timestamp\"], na_values='?')"
   ]
  },
  {
   "cell_type": "code",
   "execution_count": 13,
   "metadata": {},
   "outputs": [
    {
     "output_type": "stream",
     "name": "stdout",
     "text": [
      "1093361\n"
     ]
    }
   ],
   "source": [
    "print(len(tags_data))"
   ]
  },
  {
   "cell_type": "code",
   "execution_count": 14,
   "metadata": {},
   "outputs": [],
   "source": [
    "movies_data = pd.read_csv(movies, encoding='utf-8', sep=',', names=[\"movieId\", \"title\", \"genres\"], na_values='?')"
   ]
  },
  {
   "cell_type": "code",
   "execution_count": 16,
   "metadata": {},
   "outputs": [
    {
     "output_type": "stream",
     "name": "stdout",
     "text": [
      "62424\n"
     ]
    }
   ],
   "source": [
    "print(len(movies_data))"
   ]
  },
  {
   "cell_type": "code",
   "execution_count": 17,
   "metadata": {},
   "outputs": [],
   "source": [
    "links_data = pd.read_csv(links, encoding='utf-8', sep=',', names=[\"movieId\", \"imdbId\", \"tmdbId\"], na_values='?')"
   ]
  },
  {
   "cell_type": "code",
   "execution_count": 18,
   "metadata": {},
   "outputs": [
    {
     "output_type": "stream",
     "name": "stdout",
     "text": [
      "62424\n"
     ]
    }
   ],
   "source": [
    "print(len(links_data))"
   ]
  },
  {
   "cell_type": "code",
   "execution_count": 19,
   "metadata": {},
   "outputs": [],
   "source": [
    "genome_scores_data = pd.read_csv(genome_scores, encoding='utf-8', sep=',', names=[\"movieId\", \"tagId\", \"relevance\"], na_values='?')"
   ]
  },
  {
   "cell_type": "code",
   "execution_count": 20,
   "metadata": {},
   "outputs": [
    {
     "output_type": "stream",
     "name": "stdout",
     "text": [
      "15584449\n"
     ]
    }
   ],
   "source": [
    "print(len(genome_scores_data))"
   ]
  },
  {
   "cell_type": "code",
   "execution_count": 21,
   "metadata": {},
   "outputs": [],
   "source": [
    "genome_tags_data = pd.read_csv(genome_tags, encoding='utf-8', sep=',', names=[\"tagId\", \"tag\"], na_values='?')"
   ]
  },
  {
   "cell_type": "code",
   "execution_count": 23,
   "metadata": {},
   "outputs": [
    {
     "output_type": "stream",
     "name": "stdout",
     "text": [
      "1129\n"
     ]
    }
   ],
   "source": [
    "print(len(genome_tags_data))"
   ]
  },
  {
   "cell_type": "code",
   "execution_count": 24,
   "metadata": {},
   "outputs": [
    {
     "output_type": "stream",
     "name": "stdout",
     "text": [
      "<class 'pandas.core.frame.DataFrame'>\n"
     ]
    }
   ],
   "source": [
    "print(type(genome_tags_data))"
   ]
  },
  {
   "cell_type": "code",
   "execution_count": null,
   "metadata": {},
   "outputs": [],
   "source": []
  }
 ]
}